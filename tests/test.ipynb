{
 "cells": [
  {
   "cell_type": "markdown",
   "metadata": {},
   "source": [
    "## Import depedencies"
   ]
  },
  {
   "cell_type": "code",
   "execution_count": 1,
   "metadata": {},
   "outputs": [],
   "source": [
    "import numpy as np\n",
    "import pandas as pd\n",
    "import matplotlib.pyplot as plt"
   ]
  },
  {
   "cell_type": "markdown",
   "metadata": {},
   "source": [
    "## Read data"
   ]
  },
  {
   "cell_type": "code",
   "execution_count": 2,
   "metadata": {},
   "outputs": [
    {
     "data": {
      "text/html": [
       "<div>\n",
       "<style scoped>\n",
       "    .dataframe tbody tr th:only-of-type {\n",
       "        vertical-align: middle;\n",
       "    }\n",
       "\n",
       "    .dataframe tbody tr th {\n",
       "        vertical-align: top;\n",
       "    }\n",
       "\n",
       "    .dataframe thead th {\n",
       "        text-align: right;\n",
       "    }\n",
       "</style>\n",
       "<table border=\"1\" class=\"dataframe\">\n",
       "  <thead>\n",
       "    <tr style=\"text-align: right;\">\n",
       "      <th></th>\n",
       "      <th>n elements</th>\n",
       "      <th>10000</th>\n",
       "      <th>50000</th>\n",
       "      <th>100000</th>\n",
       "      <th>500000</th>\n",
       "      <th>1000000</th>\n",
       "      <th>5000000</th>\n",
       "      <th>10000000</th>\n",
       "      <th>15000000</th>\n",
       "      <th>20000000</th>\n",
       "      <th>25000000</th>\n",
       "    </tr>\n",
       "  </thead>\n",
       "  <tbody>\n",
       "    <tr>\n",
       "      <th>0</th>\n",
       "      <td>NaN</td>\n",
       "      <td>0.000</td>\n",
       "      <td>0.008</td>\n",
       "      <td>0.000</td>\n",
       "      <td>0.010</td>\n",
       "      <td>0.016</td>\n",
       "      <td>0.062</td>\n",
       "      <td>0.109</td>\n",
       "      <td>0.164</td>\n",
       "      <td>0.233</td>\n",
       "      <td>0.286</td>\n",
       "    </tr>\n",
       "    <tr>\n",
       "      <th>1</th>\n",
       "      <td>NaN</td>\n",
       "      <td>0.008</td>\n",
       "      <td>0.012</td>\n",
       "      <td>0.008</td>\n",
       "      <td>0.000</td>\n",
       "      <td>0.009</td>\n",
       "      <td>0.069</td>\n",
       "      <td>0.116</td>\n",
       "      <td>0.171</td>\n",
       "      <td>0.225</td>\n",
       "      <td>0.274</td>\n",
       "    </tr>\n",
       "    <tr>\n",
       "      <th>2</th>\n",
       "      <td>NaN</td>\n",
       "      <td>0.000</td>\n",
       "      <td>0.010</td>\n",
       "      <td>0.000</td>\n",
       "      <td>0.008</td>\n",
       "      <td>0.020</td>\n",
       "      <td>0.074</td>\n",
       "      <td>0.114</td>\n",
       "      <td>0.164</td>\n",
       "      <td>0.238</td>\n",
       "      <td>0.285</td>\n",
       "    </tr>\n",
       "    <tr>\n",
       "      <th>3</th>\n",
       "      <td>NaN</td>\n",
       "      <td>0.000</td>\n",
       "      <td>0.010</td>\n",
       "      <td>0.008</td>\n",
       "      <td>0.010</td>\n",
       "      <td>0.031</td>\n",
       "      <td>0.056</td>\n",
       "      <td>0.113</td>\n",
       "      <td>0.173</td>\n",
       "      <td>0.223</td>\n",
       "      <td>0.295</td>\n",
       "    </tr>\n",
       "    <tr>\n",
       "      <th>4</th>\n",
       "      <td>NaN</td>\n",
       "      <td>0.000</td>\n",
       "      <td>0.008</td>\n",
       "      <td>0.000</td>\n",
       "      <td>0.010</td>\n",
       "      <td>0.015</td>\n",
       "      <td>0.063</td>\n",
       "      <td>0.122</td>\n",
       "      <td>0.163</td>\n",
       "      <td>0.233</td>\n",
       "      <td>0.284</td>\n",
       "    </tr>\n",
       "  </tbody>\n",
       "</table>\n",
       "</div>"
      ],
      "text/plain": [
       "   n elements  10000  50000  100000  500000  1000000  5000000  10000000  \\\n",
       "0         NaN  0.000  0.008   0.000   0.010    0.016    0.062     0.109   \n",
       "1         NaN  0.008  0.012   0.008   0.000    0.009    0.069     0.116   \n",
       "2         NaN  0.000  0.010   0.000   0.008    0.020    0.074     0.114   \n",
       "3         NaN  0.000  0.010   0.008   0.010    0.031    0.056     0.113   \n",
       "4         NaN  0.000  0.008   0.000   0.010    0.015    0.063     0.122   \n",
       "\n",
       "   15000000  20000000  25000000  \n",
       "0     0.164     0.233     0.286  \n",
       "1     0.171     0.225     0.274  \n",
       "2     0.164     0.238     0.285  \n",
       "3     0.173     0.223     0.295  \n",
       "4     0.163     0.233     0.284  "
      ]
     },
     "execution_count": 2,
     "metadata": {},
     "output_type": "execute_result"
    }
   ],
   "source": [
    "df = pd.read_excel('test-results.xlsx')\n",
    "df"
   ]
  },
  {
   "cell_type": "markdown",
   "metadata": {},
   "source": [
    "## Transform data"
   ]
  },
  {
   "cell_type": "code",
   "execution_count": 3,
   "metadata": {},
   "outputs": [],
   "source": [
    "df = df.drop('n elements', axis=1)  # drop useless column"
   ]
  },
  {
   "cell_type": "code",
   "execution_count": 4,
   "metadata": {},
   "outputs": [],
   "source": [
    "df = df.fillna(df.mean()) # Fill empty fields with mean value"
   ]
  },
  {
   "cell_type": "code",
   "execution_count": 5,
   "metadata": {},
   "outputs": [
    {
     "data": {
      "text/plain": [
       "10000       0.0016\n",
       "50000       0.0096\n",
       "100000      0.0032\n",
       "500000      0.0076\n",
       "1000000     0.0182\n",
       "5000000     0.0648\n",
       "10000000    0.1148\n",
       "15000000    0.1670\n",
       "20000000    0.2304\n",
       "25000000    0.2848\n",
       "dtype: float64"
      ]
     },
     "execution_count": 5,
     "metadata": {},
     "output_type": "execute_result"
    }
   ],
   "source": [
    "df_mean = df.mean()\n",
    "df_mean"
   ]
  },
  {
   "cell_type": "code",
   "execution_count": 6,
   "metadata": {},
   "outputs": [],
   "source": [
    "x, y = df_mean.index.to_numpy(dtype=np.float64)[:-1], df_mean.values[:-1]"
   ]
  },
  {
   "cell_type": "markdown",
   "metadata": {},
   "source": [
    "# O(n) graph"
   ]
  },
  {
   "cell_type": "code",
   "execution_count": 9,
   "metadata": {},
   "outputs": [
    {
     "data": {
      "image/png": "[encoded data removed]",
      "text/plain": [
       "<Figure size 936x936 with 2 Axes>"
      ]
     },
     "metadata": {
      "needs_background": "light"
     },
     "output_type": "display_data"
    }
   ],
   "source": [
    "fig, (axs1, axs2) = plt.subplots(2, figsize=(13, 13))\n",
    "axs1.plot(x, y)\n",
    "\n",
    "axs1.set_xlabel('n-elements')\n",
    "axs1.set_ylabel('Time [s]')\n",
    "axs1.title.set_text('Execution time (n elements)')\n",
    "\n",
    "axs2.scatter(x, y)\n",
    "axs2.set_xlabel('n-elements')\n",
    "axs2.set_ylabel('Time [s]')\n",
    "\n",
    "plt.show()"
   ]
  },
  {
   "cell_type": "code",
   "execution_count": null,
   "metadata": {},
   "outputs": [],
   "source": []
  }
 ],
 "metadata": {
  "interpreter": {
   "hash": "aa8aef456d280ed71dfcbfb26959974dfee1e4b69bc176fee266e49feb48785e"
  },
  "kernelspec": {
   "display_name": "Python 3.8.8 64-bit ('base': conda)",
   "name": "python3"
  },
  "language_info": {
   "codemirror_mode": {
    "name": "ipython",
    "version": 3
   },
   "file_extension": ".py",
   "mimetype": "text/x-python",
   "name": "python",
   "nbconvert_exporter": "python",
   "pygments_lexer": "ipython3",
   "version": "3.8.8"
  },
  "orig_nbformat": 4
 },
 "nbformat": 4,
 "nbformat_minor": 2
}
